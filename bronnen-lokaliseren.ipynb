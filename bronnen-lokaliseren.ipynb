{
 "cells": [
  {
   "cell_type": "markdown",
   "metadata": {
    "slideshow": {
     "slide_type": "-"
    }
   },
   "source": [
    "# Lokale depositiebijdrage van N- emissiebronnen mbv Aerius / OPS\n",
    "\n",
    "Om kwetsbare natuur te beschermen, zal de N-depositie in gevoelige N2000-gebieden moeten verminderen. Voor het treffen van maatregelen is het van belang om de emissiebronnen die voor (een grote) depositie zorgen, zo goed mogelijk in beeld te krijgen. Deze informatie maakt het mogelijk om een helder beeld te krijgen van het nut van verschillende maatregelpaketten\n",
    "\n",
    "In Aerius monitor valt te achterhalen welke sectoren de grootste bijdrage leveren aan de depositie. Er valt echter niet te achterhalen wat de ruimtelijke spreiding van deze emissiebronnen is, of hoeveel invloed de individuele bronnen hebben. \n",
    "\n",
    "Dit script helpt bij het berekenen van de lokale effecten van stikstofemissies. "
   ]
  },
  {
   "cell_type": "markdown",
   "metadata": {
    "slideshow": {
     "slide_type": "-"
    }
   },
   "source": [
    "# Voorwerk: Emissiebronnen (p,l,v) &rarr; Emissieraster (500m x 500m)"
   ]
  },
  {
   "cell_type": "markdown",
   "metadata": {},
   "source": [
    "De eerste stap is aggregeren van de emissiebronnen naar een 500m2 (vector) raster. Dit heeft als voordeel dat de rekentijd in Aerius aanzienlijk korter wordt en dat de brondata geanonimiseerd kan worden weergegeven. \n",
    "\n",
    "Vanuit de brondata genereren we een csv/gpkg/shape oid met in ieder geval de volgende velden:"
   ]
  },
  {
   "cell_type": "markdown",
   "metadata": {},
   "source": [
    "| Variable         | Voorbeeld | Type      | Eenheid | Aerius | Opmerking                                              |\n",
    "| ---------------- | --------- | --------- | ------- | ------ | -------------------------------------------------------|\n",
    "| x                | 90250     | Integer   | m       | -      | X-coordinaat middelpunt rastercel in EPSG:28992        |\n",
    "| y                | 427250    | Integer   | m       | -      | Y-coordinaat middelpunt rastercel in EPSG:28992        |\n",
    "| q                | 1.852E-01 | Decimalen | g/s     | -      |                                                        |\n",
    "| hc               | 0.4       | Decimalen | MW      | -      | Warmteinhoud bron                                      |\n",
    "| h                | 12        | Decimalen | m       | -      | Gemiddelde uitstoothoogte bron                         |\n",
    "| r                | 500       | Integer   | m       | -      | Diameter bron                                          |\n",
    "| s                | 6.0       | Decimalen | m       | -      | Spreiding. Als spread > hoogte, dan spread = hoogte    |\n",
    "| dv               | 2         | Integer   | -       | -      | Temporele variatie bron                                |\n",
    "| cat              | 4320      | Integer   | -       | -      | Sector ID. Bij onbekend wordt sector industrie ingevuld|\n",
    "| area             | 1         | Integer   | -       | -      | Gebiedsnummer. Nederland = 1                           |\n",
    "| ps               | 0         | Integer   | -       | nee    | Particle size distribution                             |\n",
    "| component        | NOx       | Text      | -       | nee    | NOx of NH3                                             |\n",
    "| bronomschrijving | Test      | Text      | -       | nee    | Omschrijving.                                          |\n",
    "| ai_code          | 07654495  | Integer   | -       | nee    | Uniek ID van emissieregistratie 500m rastercel         |"
   ]
  },
  {
   "cell_type": "markdown",
   "metadata": {},
   "source": [
    "Per sector zijn standaardwaarden te vinden via de Aerius [website](https://www.aerius.nl/nl/factsheets/bronkenmerken-sectoren-gcngdn/01-07-2015). De pdf is via deze [link](https://www.aerius.nl/files/media/factsheets/bronkenmerken_sectoren_aerius_calculator_-_7_september_2015.pdf) te downloaden. Het proces om de rasters te genereren vanuit de emissiebronnen houden we voor nu buiten de scope."
   ]
  },
  {
   "cell_type": "markdown",
   "metadata": {},
   "source": [
    "# Configuratie\n",
    "\n",
    "Het script gaat uit van de volgende folderstructuur:\n",
    "\n",
    "```\n",
    "root\n",
    "├── emissiegrids             --> Zelf aanmaken (hier staan de 500m2 emissiegrids)\n",
    "│   ├── wonen.gpkg             \n",
    "│   ├── glastuinbouw.gpkg\n",
    "│   └── etc.\n",
    "├── rekendata                --> Wordt aangemaakt\n",
    "│   ├── glastuinbouw\n",
    "│   │    ├── brn\n",
    "│   │    ├── emissie_gml\n",
    "│   │    └── resultaat_gml\n",
    "│   └── etc.\n",
    "├── bronnen-lokaliseren.ipynb \n",
    "├── utils.py                 --> Helper functies\n",
    "└── aerius-env.yml           --> yml bestand met de benodigde packages\n",
    "```\n",
    "\n",
    "In het conda-env.yml bestand staan alle benodigde packages. Installatie gaat gemakkelijk via conda en het command:\n",
    "```sh\n",
    "conda env create -f aerius-env.yml\n",
    "```\n",
    "De packages kunnen ook handmatig worden geinstalleerd. Met minimaal python3, fiona, pandas, geopandas, shapely, requests zou alles moeten werken."
   ]
  },
  {
   "cell_type": "markdown",
   "metadata": {},
   "source": [
    "# API-key aanvragen & overige config\n",
    "\n",
    "API key aanvragen via Aerius Connect."
   ]
  },
  {
   "cell_type": "code",
   "execution_count": null,
   "metadata": {
    "scrolled": true
   },
   "outputs": [],
   "source": [
    "from utils import generate_api_key\n",
    "\n",
    "email = input('Voer je mailadres in: ')\n",
    "resp = generate_api_key(email)\n",
    "\n",
    "print('Json response: {}'.format(resp.json()))"
   ]
  },
  {
   "cell_type": "markdown",
   "metadata": {},
   "source": [
    "De API Key is naar het opgegeven mailadres verzonden. \n",
    "De API key, de sector, rekenstof en rekenjaar vullen we in."
   ]
  },
  {
   "cell_type": "code",
   "execution_count": null,
   "metadata": {},
   "outputs": [],
   "source": [
    "sector = \"Glastuinbouw\"        # Glastuinbouw\n",
    "rekenstof = \"NOX\"              # NOX of NH3 -> hoofdlettergevoelig\n",
    "year = 2018                    # Rekenjaar\n",
    "apiKey = ' ' # Staat in de mail na aanvraag"
   ]
  },
  {
   "cell_type": "markdown",
   "metadata": {},
   "source": [
    "Als de folderstructuur niet bestaat, dan genereren we hem."
   ]
  },
  {
   "cell_type": "code",
   "execution_count": null,
   "metadata": {},
   "outputs": [],
   "source": [
    "from pathlib import Path\n",
    "\n",
    "# Bouw de folder structuur als die nog niet bestaat\n",
    "for folder in ['emissie_gml', 'brn', 'depositie_gml', 'shp', 'csv']:\n",
    "    Path(r'.\\rekendata\\{}\\{}'.format(sector, folder)).mkdir(parents=True, exist_ok=True)"
   ]
  },
  {
   "cell_type": "markdown",
   "metadata": {},
   "source": [
    "# Stap 1: Emissieraster &rarr; OPS invoerbestand(en) &rarr; Emissie-GML"
   ]
  },
  {
   "cell_type": "markdown",
   "metadata": {},
   "source": [
    "Uit het emissieraster genereren we Emissie-GML's waarmee Aerius kan rekeken. Omdat we de lokale invloed willen bepalen, doen we dit per emissiecel.\n",
    "\n",
    "1. Eerst lezen we het emissieraster in. (*Let op, het is een vector raster*) De package 'fiona' is hiervoor geschikt. Mbv fiona kunnen we itereren over de features (emissierastercellen) in het ruimtelijke bestand (het emissieraster). \n",
    "2. We check eerst of de rastercel emissies bevat\n",
    "3. Per rastercel genereren we een OPS bronbestand (.brn).\n",
    "4. Dit .brn bestand sturen we naar Aerius Connect om het te laten converteren in een rekenbare GML.\n",
    "5. Als laatst passen we het rekenjaar van de GML aan, en schrijven we het bestand weg.\n",
    "\n",
    "_ToDo: stap 3+4+5 kunnen ook rechstreeks._\n",
    "\n",
    "##### LET OP: dit duurt lang.."
   ]
  },
  {
   "cell_type": "code",
   "execution_count": null,
   "metadata": {},
   "outputs": [],
   "source": [
    "import os\n",
    "import fiona \n",
    "from utils import write_brn, convert_brn_to_gml \n",
    "\n",
    "# De locatie van de geopackage met het vector raster\n",
    "filePath = r\".\\emissiegrids\\{}.gpkg\".format(sector)\n",
    "tempPath = r\".\\rekendata\\{}\".format(sector)\n",
    "\n",
    "# 1. Itereer over geopackage features. (de rastercellen)\n",
    "for i, record in enumerate(fiona.open(filePath, 'r'), 1):\n",
    "    \n",
    "    # 2. Check of de cel uberhaupt emissies bevat\n",
    "    # print(record['properties']['q'], record['properties']['id'], type(record['properties']['q']))\n",
    "    if (record['properties']['q'] == 0) or (record['properties']['q'] is None):\n",
    "        print('AI CODE: {} .. Geen emmissies'.format(record['properties']['ai_code']))\n",
    "        i =- 1\n",
    "        continue\n",
    "        \n",
    "    # 2. Per rastercel genereren we een BRN bestand. \n",
    "    # Fiona leest features als ordered dict. Converteren naar dict.\n",
    "    rd = dict(record['properties'].items())   \n",
    "    brn = write_brn(rd, tempPath)\n",
    "    \n",
    "    # 3. Als het bestand nog niet is geconverteerd, \n",
    "    # dan sturen we het naar connect.\n",
    "    targetGMLPath = r'.\\rekendata\\{}\\emissie_gml\\{}.gml'.format(sector, rd['ai_code'])\n",
    "    if os.path.exists(targetGMLPath) == True: \n",
    "        print('Bestand bestaat')\n",
    "        continue\n",
    "    else:\n",
    "        print('Stuur cel naar connect voor convertie')\n",
    "        resp = convert_brn_to_gml(brn, rekenstof).json()\n",
    "        \n",
    "    # 4. GML wegschrijven met aangepast rekenjaar.    \n",
    "    with open(targetGMLPath, \"w\") as gml:\n",
    "        imaerGml = resp['dataObject']['data'] \n",
    "        imaerGml = imaerGml.replace(\"year>0</i\", \"year>{}</i\".format(year))\n",
    "        gml.write(imaerGml)\n",
    "        print(i, targetGMLPath)\n",
    "        "
   ]
  },
  {
   "cell_type": "markdown",
   "metadata": {},
   "source": [
    "## Stap 2: Depositieberekening per cel via Aerius Connect"
   ]
  },
  {
   "cell_type": "markdown",
   "metadata": {},
   "source": [
    "1. We itereren door het GML bestand\n",
    "2. Er mogen max 6 berekeningen tegelijk naar Connect gaan. We checken eerst of de wachtrij vol zit, zo ja, dan wachten we 6 sec en checken we het opnieuw.\n",
    "3. We gaan door de lijst van jobs. Als een berekening afgerond is, dan downloaden we het zip bestand en pakken het uit (met de naam van het rastercel). \n",
    "\n",
    "##### LET OP: dit duurt _erg_ lang.."
   ]
  },
  {
   "cell_type": "code",
   "execution_count": null,
   "metadata": {
    "scrolled": true
   },
   "outputs": [],
   "source": [
    "import glob, os, time, random\n",
    "from utils import get_job_status, download_and_unzip, calculate_job\n",
    "\n",
    "startTime = time.strptime('2020-01-07 12:00', '%Y-%m-%d %H:%M') # Omdat de API niet voorziet in filtering van de jobs, is het handig om dat zelf te doen.\n",
    "tempPath = r\".\\rekendata\\{}\".format(sector)\n",
    "\n",
    "# Lijst van al berekende GMLs\n",
    "globString1 = r'.\\rekendata\\{}\\depositie_gml\\*.gml'.format(sector)\n",
    "completed = [os.path.basename(x) for x in glob.glob(globString1)]\n",
    "\n",
    "# Lijst van alle te berekenen GMLs\n",
    "globString2 = r'.\\rekendata\\{}\\emissie_gml\\*.gml'.format(sector)\n",
    "todo = [os.path.basename(x) for x in glob.glob(globString2)]\n",
    "todoL = len(todo)\n",
    "\n",
    "# Haal de afgeronde items van de todo-lijst af\n",
    "todo = [item for item in todo if item not in completed]\n",
    "print('{} To do.. '.format(len(todo)))\n",
    "\n",
    "# Per GML emissiebestand\n",
    "for i, gml in enumerate(todo):\n",
    "    running = []\n",
    "    jobs = get_job_status(apiKey).json()['entries'] \n",
    "  \n",
    "    # Wacht tot er plek is voor een nieuwe GML (max 6 tegelijk)\n",
    "    while str(jobs).count('RUNNING') > 5:\n",
    "        jobs = get_job_status(apiKey).json()['entries']\n",
    "        print('--')\n",
    "        time.sleep(10)      \n",
    "\n",
    "    # Download completed berekeningen, log de gmls die nu\n",
    "    # staan te rekenen (zodat ze niet nogmaals worden verstuurd)\n",
    "    for job in jobs:\n",
    "        jobTime = time.strptime(job['startDateTime'][:-12], '%Y-%m-%dT%H:%M')\n",
    "        if job['state'] == 'COMPLETED' and jobTime > startTime and \\\n",
    "           job['name'] not in completed:\n",
    "            try:\n",
    "                print(\"Download: {}\".format(job['name']))\n",
    "                download_and_unzip(job['name'], job['resultUrl'], tempPath)\n",
    "                completed.append(job['name'])\n",
    "            except:\n",
    "                print(\"----> failed\")                \n",
    "        elif job['state'] == 'RUNNING' or job['state'] == 'QUEUED':\n",
    "            running.append(job['name'])  \n",
    "    \n",
    "    # Als de GML niet momenteel wordt berekend, of dat al is,\n",
    "    # dan lezen we de GML en sturen we hem naar Connect\n",
    "    if gml not in completed and gml not in running:\n",
    "        \n",
    "        # Lees de GML\n",
    "        gmlPath = r'.\\rekendata\\{}\\emissie_gml\\{}'.format(sector,gml)     \n",
    "         \n",
    "        with open(gmlPath, 'r') as myfile:\n",
    "            gmlFile = myfile.read()    \n",
    "            print(calculate_job(apiKey, gmlFile, gml, year))\n",
    "        \n",
    "        print('Progress: completed: {} '\\\n",
    "              'running: {} total: {}'.format(len(completed), len(running), todoL))\n",
    "        time.sleep(2)\n",
    "    else:\n",
    "        print('{}/{} ::{} completed or running'.format(i, todoL, gml))\n",
    "        "
   ]
  },
  {
   "cell_type": "markdown",
   "metadata": {},
   "source": [
    "Dit stukje code vraagt de huidige status van de berekeningen op:"
   ]
  },
  {
   "cell_type": "code",
   "execution_count": null,
   "metadata": {},
   "outputs": [],
   "source": [
    "import time\n",
    "from utils import get_job_status\n",
    "\n",
    "# Omdat de API niet voorziet in filtering van de jobs, is het handig om dat zelf te doen.\n",
    "# Pas deze waarde aan \n",
    "startTime = time.strptime('2020-01-07 12:00', '%Y-%m-%d %H:%M') \n",
    "\n",
    "for job in get_job_status(apiKey).json()['entries'] :\n",
    "    jobTime = time.strptime(job['startDateTime'][:-12], '%Y-%m-%dT%H:%M')\n",
    "    \n",
    "    if jobTime > startTime:\n",
    "        print(job['name'], job['state'], job['key'])\n",
    "    "
   ]
  },
  {
   "cell_type": "markdown",
   "metadata": {},
   "source": [
    "## Stap 3: Verwerken depositieberekening"
   ]
  },
  {
   "cell_type": "markdown",
   "metadata": {},
   "source": [
    "Volgend uit stap 2 hebben we nu een folder met enkele duizenden depositieberekeningen (in de vorm van GMLs). Elke GML bevat depositieberekening van de emissies van een bepaalde cel. De naam van het GML-bestand correspondeert met de code van de Emissie-cel.\n",
    "\n",
    "De data schrijven we weg als CSV met het volgende format:\n",
    "\n",
    "Emissievlak (1), Receptor (2), Depositieresultaat (3), Geometrie (4)\n",
    "\n",
    "1. De code (ai) van het emissievlak vanwaar de deposities zijn berekend.\n",
    "2. De code (rcp) van de receptor waar de depositie neerslaat.\n",
    "3. De berekende depositie (dep) op dit receptorpunt.\n",
    "4. De geometrie van het hexagoon in WKT format.\n",
    "\n",
    "\n",
    "[TODO: wegschrijven naar een (lokale) database of ander efficienter format]*"
   ]
  },
  {
   "cell_type": "markdown",
   "metadata": {},
   "source": [
    "### _Uitlezen depositieberekening GML's_"
   ]
  },
  {
   "cell_type": "code",
   "execution_count": null,
   "metadata": {},
   "outputs": [],
   "source": [
    "fname = 'Resultaat_{}.csv'.format(sector)"
   ]
  },
  {
   "cell_type": "code",
   "execution_count": null,
   "metadata": {},
   "outputs": [],
   "source": [
    "import utils\n",
    "import csv\n",
    "import glob, os\n",
    "\n",
    "from importlib import reload\n",
    "reload(utils)\n",
    "\n",
    "# Lijst van GMLs met rekenresultaten\n",
    "gml_files = glob.glob(r\".\\rekendata\\{}\\depositie_gml\\*.gml\".format(sector))\n",
    "result = []\n",
    "\n",
    "\n",
    "# Loop door de resultaten heen\n",
    "for i, gml in enumerate(gml_files):\n",
    "        \n",
    "    base = os.path.basename(gml)\n",
    "    base_no_ext = os.path.splitext(base)[0]\n",
    "    print('{} GML no.: {}'.format(i, base_no_ext))\n",
    "    \n",
    "    for record in utils.yield_receptor_data(gml):\n",
    "        result.append({'ai' : base_no_ext, 'rcp': record[0], 'dep': record[1], 'wkt': record[2]})     \n",
    "        \n",
    "try:\n",
    "    with open(fname, 'w') as csv:\n",
    "        csv.write('AI; RCP; DEP; RCP_WKT\\n')\n",
    "        for i, val in enumerate(result):\n",
    "            csv.write('{ai}; {rcp}; {dep}; {wkt}\\n'.format(**val)) \n",
    "    print('CSV saved to: {}\\{}'.format(os.getcwd(), fname)) \n",
    "except:\n",
    "    print('Cant save to csv')"
   ]
  },
  {
   "cell_type": "markdown",
   "metadata": {
    "scrolled": true
   },
   "source": [
    "### _Joinen grid-geometrieen (AI CODES) & n2000 gebieden._"
   ]
  },
  {
   "cell_type": "markdown",
   "metadata": {},
   "source": [
    "Vervolgens koppelen we de receptoren aan de Natura2000-gebieden waar ze binnen vallen."
   ]
  },
  {
   "cell_type": "code",
   "execution_count": null,
   "metadata": {
    "scrolled": true
   },
   "outputs": [],
   "source": [
    "import pandas as pd\n",
    "import geopandas as gpd\n",
    "import shapely.wkt\n",
    "\n",
    "# Inlezen CSVs en shapefile\n",
    "depositie_resultaten = pd.read_csv(fname, delimiter=\"; \", engine='python').set_index('AI')\n",
    "emissie_raster = pd.read_csv(\"emissiegrids/Emissieraster_leeg.csv\", delimiter=\";\", engine='python').set_index('AI_CODE')\n",
    "n2000 = gpd.read_file(\"/overige_datasets/n2k_b/n2k_buffer.shp\")\n",
    "\n",
    "# Join \n",
    "dep_join_ai = depositie_resultaten.join(emissie_raster)\n",
    "\n",
    "# Lees geometrie uit WKT string, maak geopandas dataframe in RD\n",
    "geometry = dep_join_ai['RCP_WKT'].map(shapely.wkt.loads)\n",
    "dep_gdf = gpd.GeoDataFrame(dep_join_ai, crs={'init':'epsg:28992'}, geometry=geometry)\n",
    "\n",
    "# Pak middelpunt van receptorpunt, spatial join met n2000\n",
    "dep_gdf['geometry'] = dep_gdf['geometry'].centroid\n",
    "joined_gdf = gpd.sjoin(dep_gdf, n2000, how='left', op='intersects', lsuffix='left_', rsuffix='right_')\n",
    "\n",
    "# Door de buffer in 't n2000 bestand ontstaan er dubbele joins. Verwijder dubbele matches.\n",
    "joined_gdf_no_duplicates = joined_gdf.drop_duplicates(subset=['AI_WKT', 'RCP'], keep='first')"
   ]
  },
  {
   "cell_type": "markdown",
   "metadata": {},
   "source": [
    "Als output zijn we geïnteresseerd in twee type bestanden.\n",
    "\n",
    "De éne bevat de geometrie van de receptoren, de andere de geometrie van de emissievlakken."
   ]
  },
  {
   "cell_type": "code",
   "execution_count": null,
   "metadata": {},
   "outputs": [],
   "source": [
    "# Bestand 1: AI_code, RCP_id, NOx_dep, n2k_name, geom (van ai_code)\n",
    "v1_RCP_GEOM = joined_gdf_no_duplicates.rename(index=str, columns={\"RCP\": \"RCP_id\", \"DEP\": \"NOx_dep\",\"natura2001\": \"N2k_name\"})\n",
    "v1_RCP_GEOM = v1_RCP_GEOM.drop(['index_right_', 'AI_WKT', 'geometry'], axis=1)\n",
    "\n",
    "v1_RCP_GEOM.to_csv('rcp_geometrie.csv')\n",
    "\n",
    "# Bestand 2: AI_code, RCP_id, NOx_dep, n2k_name, geom (van receptor)\n",
    "v2_AI_GEOM = joined_gdf_no_duplicates.rename(index=str, columns={\"RCP\": \"RCP_id\", \"DEP\": \"NOx_dep\",\"natura2001\": \"N2k_name\"})\n",
    "v2_AI_GEOM = v2_AI_GEOM.drop(['index_right_', 'RCP_WKT', 'geometry'], axis=1)\n",
    "\n",
    "v2_AI_GEOM.to_csv('ai_geometrie.csv')\n"
   ]
  },
  {
   "cell_type": "code",
   "execution_count": null,
   "metadata": {},
   "outputs": [],
   "source": []
  }
 ],
 "metadata": {
  "kernelspec": {
   "display_name": "Python 3",
   "language": "python",
   "name": "python3"
  },
  "language_info": {
   "codemirror_mode": {
    "name": "ipython",
    "version": 3
   },
   "file_extension": ".py",
   "mimetype": "text/x-python",
   "name": "python",
   "nbconvert_exporter": "python",
   "pygments_lexer": "ipython3",
   "version": "3.7.5"
  }
 },
 "nbformat": 4,
 "nbformat_minor": 2
}
